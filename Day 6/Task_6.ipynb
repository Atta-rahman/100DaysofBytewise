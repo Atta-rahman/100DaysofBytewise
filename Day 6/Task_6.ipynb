{
  "nbformat": 4,
  "nbformat_minor": 0,
  "metadata": {
    "colab": {
      "provenance": []
    },
    "kernelspec": {
      "name": "python3",
      "display_name": "Python 3"
    },
    "language_info": {
      "name": "python"
    }
  },
  "cells": [
    {
      "cell_type": "code",
      "source": [
        "import pandas as pd\n",
        "import numpy as np\n",
        "import matplotlib.pyplot as plt"
      ],
      "metadata": {
        "id": "sq-aG8ViwMMI"
      },
      "execution_count": 16,
      "outputs": []
    },
    {
      "cell_type": "markdown",
      "source": [
        "# Iris dataset"
      ],
      "metadata": {
        "id": "Tsb6NfLBrPo_"
      }
    },
    {
      "cell_type": "code",
      "execution_count": 2,
      "metadata": {
        "id": "_PEo9cVBqixC"
      },
      "outputs": [],
      "source": [
        "from sklearn import datasets\n",
        "iris = datasets.load_iris()"
      ]
    },
    {
      "cell_type": "code",
      "source": [
        "print(iris.data[:5])"
      ],
      "metadata": {
        "colab": {
          "base_uri": "https://localhost:8080/"
        },
        "id": "dQNGdFITrMPW",
        "outputId": "95325021-e0a8-432d-c083-0fd21fc8df48"
      },
      "execution_count": 10,
      "outputs": [
        {
          "output_type": "stream",
          "name": "stdout",
          "text": [
            "[[5.1 3.5 1.4 0.2]\n",
            " [4.9 3.  1.4 0.2]\n",
            " [4.7 3.2 1.3 0.2]\n",
            " [4.6 3.1 1.5 0.2]\n",
            " [5.  3.6 1.4 0.2]]\n"
          ]
        }
      ]
    },
    {
      "cell_type": "markdown",
      "source": [
        "# Features and sample count"
      ],
      "metadata": {
        "id": "xt3BjUjHup4J"
      }
    },
    {
      "cell_type": "code",
      "source": [
        "def features_samples_count(dataset):\n",
        "  features = len(dataset.columns) - 1\n",
        "  samples = len(dataset)\n",
        "  return features, samples"
      ],
      "metadata": {
        "id": "6sB25L7PsvSF"
      },
      "execution_count": 26,
      "outputs": []
    },
    {
      "cell_type": "code",
      "source": [
        "\n",
        "iris_data = pd.DataFrame(iris.data, columns = iris.feature_names)\n",
        "iris_data.head()\n",
        "iris_data[\"target\"] = iris.target\n"
      ],
      "metadata": {
        "id": "2sFXFQixrMRk"
      },
      "execution_count": 24,
      "outputs": []
    },
    {
      "cell_type": "code",
      "source": [
        "features_iris, samples_iris = features_samples_count(iris_data)\n",
        "print(f\"No of features in the iris dataset are {features_iris} and no of samples are {samples_iris}\")"
      ],
      "metadata": {
        "colab": {
          "base_uri": "https://localhost:8080/"
        },
        "id": "iGtCpvzqrMVP",
        "outputId": "4d4dc983-e29a-41d4-9ae1-2dbb934ee2f2"
      },
      "execution_count": 27,
      "outputs": [
        {
          "output_type": "stream",
          "name": "stdout",
          "text": [
            "No of features in the iris dataset are 4 and no of samples are 150\n"
          ]
        }
      ]
    },
    {
      "cell_type": "markdown",
      "source": [
        "# Split a dataset"
      ],
      "metadata": {
        "id": "e_DbQfAY32xG"
      }
    },
    {
      "cell_type": "code",
      "source": [
        "from sklearn.model_selection import train_test_split\n",
        "X = iris_data.drop(\"target\", axis=1)\n",
        "y = iris_data.target\n",
        "X_train, X_test, y_train, y_test = train_test_split(X, y, test_size=0.2)"
      ],
      "metadata": {
        "id": "GJTWjkpnrMZO"
      },
      "execution_count": 50,
      "outputs": []
    },
    {
      "cell_type": "markdown",
      "source": [
        "#  Basic statistics of a dataset"
      ],
      "metadata": {
        "id": "ZGcgdZ654t4V"
      }
    },
    {
      "cell_type": "code",
      "source": [
        "df_stats = iris_data.describe()\n",
        "df_stats"
      ],
      "metadata": {
        "colab": {
          "base_uri": "https://localhost:8080/",
          "height": 300
        },
        "id": "xk8_5z4J397t",
        "outputId": "4cf1f943-f482-41ef-d0c4-7cf8cce1f6bf"
      },
      "execution_count": 34,
      "outputs": [
        {
          "output_type": "execute_result",
          "data": {
            "text/plain": [
              "       sepal length (cm)  sepal width (cm)  petal length (cm)  \\\n",
              "count         150.000000        150.000000         150.000000   \n",
              "mean            5.843333          3.057333           3.758000   \n",
              "std             0.828066          0.435866           1.765298   \n",
              "min             4.300000          2.000000           1.000000   \n",
              "25%             5.100000          2.800000           1.600000   \n",
              "50%             5.800000          3.000000           4.350000   \n",
              "75%             6.400000          3.300000           5.100000   \n",
              "max             7.900000          4.400000           6.900000   \n",
              "\n",
              "       petal width (cm)      target  \n",
              "count        150.000000  150.000000  \n",
              "mean           1.199333    1.000000  \n",
              "std            0.762238    0.819232  \n",
              "min            0.100000    0.000000  \n",
              "25%            0.300000    0.000000  \n",
              "50%            1.300000    1.000000  \n",
              "75%            1.800000    2.000000  \n",
              "max            2.500000    2.000000  "
            ],
            "text/html": [
              "\n",
              "  <div id=\"df-33fba05b-97ec-42ba-906b-8e40198abe09\" class=\"colab-df-container\">\n",
              "    <div>\n",
              "<style scoped>\n",
              "    .dataframe tbody tr th:only-of-type {\n",
              "        vertical-align: middle;\n",
              "    }\n",
              "\n",
              "    .dataframe tbody tr th {\n",
              "        vertical-align: top;\n",
              "    }\n",
              "\n",
              "    .dataframe thead th {\n",
              "        text-align: right;\n",
              "    }\n",
              "</style>\n",
              "<table border=\"1\" class=\"dataframe\">\n",
              "  <thead>\n",
              "    <tr style=\"text-align: right;\">\n",
              "      <th></th>\n",
              "      <th>sepal length (cm)</th>\n",
              "      <th>sepal width (cm)</th>\n",
              "      <th>petal length (cm)</th>\n",
              "      <th>petal width (cm)</th>\n",
              "      <th>target</th>\n",
              "    </tr>\n",
              "  </thead>\n",
              "  <tbody>\n",
              "    <tr>\n",
              "      <th>count</th>\n",
              "      <td>150.000000</td>\n",
              "      <td>150.000000</td>\n",
              "      <td>150.000000</td>\n",
              "      <td>150.000000</td>\n",
              "      <td>150.000000</td>\n",
              "    </tr>\n",
              "    <tr>\n",
              "      <th>mean</th>\n",
              "      <td>5.843333</td>\n",
              "      <td>3.057333</td>\n",
              "      <td>3.758000</td>\n",
              "      <td>1.199333</td>\n",
              "      <td>1.000000</td>\n",
              "    </tr>\n",
              "    <tr>\n",
              "      <th>std</th>\n",
              "      <td>0.828066</td>\n",
              "      <td>0.435866</td>\n",
              "      <td>1.765298</td>\n",
              "      <td>0.762238</td>\n",
              "      <td>0.819232</td>\n",
              "    </tr>\n",
              "    <tr>\n",
              "      <th>min</th>\n",
              "      <td>4.300000</td>\n",
              "      <td>2.000000</td>\n",
              "      <td>1.000000</td>\n",
              "      <td>0.100000</td>\n",
              "      <td>0.000000</td>\n",
              "    </tr>\n",
              "    <tr>\n",
              "      <th>25%</th>\n",
              "      <td>5.100000</td>\n",
              "      <td>2.800000</td>\n",
              "      <td>1.600000</td>\n",
              "      <td>0.300000</td>\n",
              "      <td>0.000000</td>\n",
              "    </tr>\n",
              "    <tr>\n",
              "      <th>50%</th>\n",
              "      <td>5.800000</td>\n",
              "      <td>3.000000</td>\n",
              "      <td>4.350000</td>\n",
              "      <td>1.300000</td>\n",
              "      <td>1.000000</td>\n",
              "    </tr>\n",
              "    <tr>\n",
              "      <th>75%</th>\n",
              "      <td>6.400000</td>\n",
              "      <td>3.300000</td>\n",
              "      <td>5.100000</td>\n",
              "      <td>1.800000</td>\n",
              "      <td>2.000000</td>\n",
              "    </tr>\n",
              "    <tr>\n",
              "      <th>max</th>\n",
              "      <td>7.900000</td>\n",
              "      <td>4.400000</td>\n",
              "      <td>6.900000</td>\n",
              "      <td>2.500000</td>\n",
              "      <td>2.000000</td>\n",
              "    </tr>\n",
              "  </tbody>\n",
              "</table>\n",
              "</div>\n",
              "    <div class=\"colab-df-buttons\">\n",
              "\n",
              "  <div class=\"colab-df-container\">\n",
              "    <button class=\"colab-df-convert\" onclick=\"convertToInteractive('df-33fba05b-97ec-42ba-906b-8e40198abe09')\"\n",
              "            title=\"Convert this dataframe to an interactive table.\"\n",
              "            style=\"display:none;\">\n",
              "\n",
              "  <svg xmlns=\"http://www.w3.org/2000/svg\" height=\"24px\" viewBox=\"0 -960 960 960\">\n",
              "    <path d=\"M120-120v-720h720v720H120Zm60-500h600v-160H180v160Zm220 220h160v-160H400v160Zm0 220h160v-160H400v160ZM180-400h160v-160H180v160Zm440 0h160v-160H620v160ZM180-180h160v-160H180v160Zm440 0h160v-160H620v160Z\"/>\n",
              "  </svg>\n",
              "    </button>\n",
              "\n",
              "  <style>\n",
              "    .colab-df-container {\n",
              "      display:flex;\n",
              "      gap: 12px;\n",
              "    }\n",
              "\n",
              "    .colab-df-convert {\n",
              "      background-color: #E8F0FE;\n",
              "      border: none;\n",
              "      border-radius: 50%;\n",
              "      cursor: pointer;\n",
              "      display: none;\n",
              "      fill: #1967D2;\n",
              "      height: 32px;\n",
              "      padding: 0 0 0 0;\n",
              "      width: 32px;\n",
              "    }\n",
              "\n",
              "    .colab-df-convert:hover {\n",
              "      background-color: #E2EBFA;\n",
              "      box-shadow: 0px 1px 2px rgba(60, 64, 67, 0.3), 0px 1px 3px 1px rgba(60, 64, 67, 0.15);\n",
              "      fill: #174EA6;\n",
              "    }\n",
              "\n",
              "    .colab-df-buttons div {\n",
              "      margin-bottom: 4px;\n",
              "    }\n",
              "\n",
              "    [theme=dark] .colab-df-convert {\n",
              "      background-color: #3B4455;\n",
              "      fill: #D2E3FC;\n",
              "    }\n",
              "\n",
              "    [theme=dark] .colab-df-convert:hover {\n",
              "      background-color: #434B5C;\n",
              "      box-shadow: 0px 1px 3px 1px rgba(0, 0, 0, 0.15);\n",
              "      filter: drop-shadow(0px 1px 2px rgba(0, 0, 0, 0.3));\n",
              "      fill: #FFFFFF;\n",
              "    }\n",
              "  </style>\n",
              "\n",
              "    <script>\n",
              "      const buttonEl =\n",
              "        document.querySelector('#df-33fba05b-97ec-42ba-906b-8e40198abe09 button.colab-df-convert');\n",
              "      buttonEl.style.display =\n",
              "        google.colab.kernel.accessAllowed ? 'block' : 'none';\n",
              "\n",
              "      async function convertToInteractive(key) {\n",
              "        const element = document.querySelector('#df-33fba05b-97ec-42ba-906b-8e40198abe09');\n",
              "        const dataTable =\n",
              "          await google.colab.kernel.invokeFunction('convertToInteractive',\n",
              "                                                    [key], {});\n",
              "        if (!dataTable) return;\n",
              "\n",
              "        const docLinkHtml = 'Like what you see? Visit the ' +\n",
              "          '<a target=\"_blank\" href=https://colab.research.google.com/notebooks/data_table.ipynb>data table notebook</a>'\n",
              "          + ' to learn more about interactive tables.';\n",
              "        element.innerHTML = '';\n",
              "        dataTable['output_type'] = 'display_data';\n",
              "        await google.colab.output.renderOutput(dataTable, element);\n",
              "        const docLink = document.createElement('div');\n",
              "        docLink.innerHTML = docLinkHtml;\n",
              "        element.appendChild(docLink);\n",
              "      }\n",
              "    </script>\n",
              "  </div>\n",
              "\n",
              "\n",
              "<div id=\"df-dad37018-e481-4d6e-bdfc-02d0daf7bfb3\">\n",
              "  <button class=\"colab-df-quickchart\" onclick=\"quickchart('df-dad37018-e481-4d6e-bdfc-02d0daf7bfb3')\"\n",
              "            title=\"Suggest charts\"\n",
              "            style=\"display:none;\">\n",
              "\n",
              "<svg xmlns=\"http://www.w3.org/2000/svg\" height=\"24px\"viewBox=\"0 0 24 24\"\n",
              "     width=\"24px\">\n",
              "    <g>\n",
              "        <path d=\"M19 3H5c-1.1 0-2 .9-2 2v14c0 1.1.9 2 2 2h14c1.1 0 2-.9 2-2V5c0-1.1-.9-2-2-2zM9 17H7v-7h2v7zm4 0h-2V7h2v10zm4 0h-2v-4h2v4z\"/>\n",
              "    </g>\n",
              "</svg>\n",
              "  </button>\n",
              "\n",
              "<style>\n",
              "  .colab-df-quickchart {\n",
              "      --bg-color: #E8F0FE;\n",
              "      --fill-color: #1967D2;\n",
              "      --hover-bg-color: #E2EBFA;\n",
              "      --hover-fill-color: #174EA6;\n",
              "      --disabled-fill-color: #AAA;\n",
              "      --disabled-bg-color: #DDD;\n",
              "  }\n",
              "\n",
              "  [theme=dark] .colab-df-quickchart {\n",
              "      --bg-color: #3B4455;\n",
              "      --fill-color: #D2E3FC;\n",
              "      --hover-bg-color: #434B5C;\n",
              "      --hover-fill-color: #FFFFFF;\n",
              "      --disabled-bg-color: #3B4455;\n",
              "      --disabled-fill-color: #666;\n",
              "  }\n",
              "\n",
              "  .colab-df-quickchart {\n",
              "    background-color: var(--bg-color);\n",
              "    border: none;\n",
              "    border-radius: 50%;\n",
              "    cursor: pointer;\n",
              "    display: none;\n",
              "    fill: var(--fill-color);\n",
              "    height: 32px;\n",
              "    padding: 0;\n",
              "    width: 32px;\n",
              "  }\n",
              "\n",
              "  .colab-df-quickchart:hover {\n",
              "    background-color: var(--hover-bg-color);\n",
              "    box-shadow: 0 1px 2px rgba(60, 64, 67, 0.3), 0 1px 3px 1px rgba(60, 64, 67, 0.15);\n",
              "    fill: var(--button-hover-fill-color);\n",
              "  }\n",
              "\n",
              "  .colab-df-quickchart-complete:disabled,\n",
              "  .colab-df-quickchart-complete:disabled:hover {\n",
              "    background-color: var(--disabled-bg-color);\n",
              "    fill: var(--disabled-fill-color);\n",
              "    box-shadow: none;\n",
              "  }\n",
              "\n",
              "  .colab-df-spinner {\n",
              "    border: 2px solid var(--fill-color);\n",
              "    border-color: transparent;\n",
              "    border-bottom-color: var(--fill-color);\n",
              "    animation:\n",
              "      spin 1s steps(1) infinite;\n",
              "  }\n",
              "\n",
              "  @keyframes spin {\n",
              "    0% {\n",
              "      border-color: transparent;\n",
              "      border-bottom-color: var(--fill-color);\n",
              "      border-left-color: var(--fill-color);\n",
              "    }\n",
              "    20% {\n",
              "      border-color: transparent;\n",
              "      border-left-color: var(--fill-color);\n",
              "      border-top-color: var(--fill-color);\n",
              "    }\n",
              "    30% {\n",
              "      border-color: transparent;\n",
              "      border-left-color: var(--fill-color);\n",
              "      border-top-color: var(--fill-color);\n",
              "      border-right-color: var(--fill-color);\n",
              "    }\n",
              "    40% {\n",
              "      border-color: transparent;\n",
              "      border-right-color: var(--fill-color);\n",
              "      border-top-color: var(--fill-color);\n",
              "    }\n",
              "    60% {\n",
              "      border-color: transparent;\n",
              "      border-right-color: var(--fill-color);\n",
              "    }\n",
              "    80% {\n",
              "      border-color: transparent;\n",
              "      border-right-color: var(--fill-color);\n",
              "      border-bottom-color: var(--fill-color);\n",
              "    }\n",
              "    90% {\n",
              "      border-color: transparent;\n",
              "      border-bottom-color: var(--fill-color);\n",
              "    }\n",
              "  }\n",
              "</style>\n",
              "\n",
              "  <script>\n",
              "    async function quickchart(key) {\n",
              "      const quickchartButtonEl =\n",
              "        document.querySelector('#' + key + ' button');\n",
              "      quickchartButtonEl.disabled = true;  // To prevent multiple clicks.\n",
              "      quickchartButtonEl.classList.add('colab-df-spinner');\n",
              "      try {\n",
              "        const charts = await google.colab.kernel.invokeFunction(\n",
              "            'suggestCharts', [key], {});\n",
              "      } catch (error) {\n",
              "        console.error('Error during call to suggestCharts:', error);\n",
              "      }\n",
              "      quickchartButtonEl.classList.remove('colab-df-spinner');\n",
              "      quickchartButtonEl.classList.add('colab-df-quickchart-complete');\n",
              "    }\n",
              "    (() => {\n",
              "      let quickchartButtonEl =\n",
              "        document.querySelector('#df-dad37018-e481-4d6e-bdfc-02d0daf7bfb3 button');\n",
              "      quickchartButtonEl.style.display =\n",
              "        google.colab.kernel.accessAllowed ? 'block' : 'none';\n",
              "    })();\n",
              "  </script>\n",
              "</div>\n",
              "\n",
              "  <div id=\"id_4da53ac9-9d96-41c3-bfb7-0bbc9f37ca39\">\n",
              "    <style>\n",
              "      .colab-df-generate {\n",
              "        background-color: #E8F0FE;\n",
              "        border: none;\n",
              "        border-radius: 50%;\n",
              "        cursor: pointer;\n",
              "        display: none;\n",
              "        fill: #1967D2;\n",
              "        height: 32px;\n",
              "        padding: 0 0 0 0;\n",
              "        width: 32px;\n",
              "      }\n",
              "\n",
              "      .colab-df-generate:hover {\n",
              "        background-color: #E2EBFA;\n",
              "        box-shadow: 0px 1px 2px rgba(60, 64, 67, 0.3), 0px 1px 3px 1px rgba(60, 64, 67, 0.15);\n",
              "        fill: #174EA6;\n",
              "      }\n",
              "\n",
              "      [theme=dark] .colab-df-generate {\n",
              "        background-color: #3B4455;\n",
              "        fill: #D2E3FC;\n",
              "      }\n",
              "\n",
              "      [theme=dark] .colab-df-generate:hover {\n",
              "        background-color: #434B5C;\n",
              "        box-shadow: 0px 1px 3px 1px rgba(0, 0, 0, 0.15);\n",
              "        filter: drop-shadow(0px 1px 2px rgba(0, 0, 0, 0.3));\n",
              "        fill: #FFFFFF;\n",
              "      }\n",
              "    </style>\n",
              "    <button class=\"colab-df-generate\" onclick=\"generateWithVariable('df_stats')\"\n",
              "            title=\"Generate code using this dataframe.\"\n",
              "            style=\"display:none;\">\n",
              "\n",
              "  <svg xmlns=\"http://www.w3.org/2000/svg\" height=\"24px\"viewBox=\"0 0 24 24\"\n",
              "       width=\"24px\">\n",
              "    <path d=\"M7,19H8.4L18.45,9,17,7.55,7,17.6ZM5,21V16.75L18.45,3.32a2,2,0,0,1,2.83,0l1.4,1.43a1.91,1.91,0,0,1,.58,1.4,1.91,1.91,0,0,1-.58,1.4L9.25,21ZM18.45,9,17,7.55Zm-12,3A5.31,5.31,0,0,0,4.9,8.1,5.31,5.31,0,0,0,1,6.5,5.31,5.31,0,0,0,4.9,4.9,5.31,5.31,0,0,0,6.5,1,5.31,5.31,0,0,0,8.1,4.9,5.31,5.31,0,0,0,12,6.5,5.46,5.46,0,0,0,6.5,12Z\"/>\n",
              "  </svg>\n",
              "    </button>\n",
              "    <script>\n",
              "      (() => {\n",
              "      const buttonEl =\n",
              "        document.querySelector('#id_4da53ac9-9d96-41c3-bfb7-0bbc9f37ca39 button.colab-df-generate');\n",
              "      buttonEl.style.display =\n",
              "        google.colab.kernel.accessAllowed ? 'block' : 'none';\n",
              "\n",
              "      buttonEl.onclick = () => {\n",
              "        google.colab.notebook.generateWithVariable('df_stats');\n",
              "      }\n",
              "      })();\n",
              "    </script>\n",
              "  </div>\n",
              "\n",
              "    </div>\n",
              "  </div>\n"
            ],
            "application/vnd.google.colaboratory.intrinsic+json": {
              "type": "dataframe",
              "variable_name": "df_stats",
              "summary": "{\n  \"name\": \"df_stats\",\n  \"rows\": 8,\n  \"fields\": [\n    {\n      \"column\": \"sepal length (cm)\",\n      \"properties\": {\n        \"dtype\": \"number\",\n        \"std\": 51.24711349471842,\n        \"min\": 0.828066127977863,\n        \"max\": 150.0,\n        \"num_unique_values\": 8,\n        \"samples\": [\n          5.843333333333334,\n          5.8,\n          150.0\n        ],\n        \"semantic_type\": \"\",\n        \"description\": \"\"\n      }\n    },\n    {\n      \"column\": \"sepal width (cm)\",\n      \"properties\": {\n        \"dtype\": \"number\",\n        \"std\": 52.08617800869865,\n        \"min\": 0.4358662849366982,\n        \"max\": 150.0,\n        \"num_unique_values\": 8,\n        \"samples\": [\n          3.0573333333333337,\n          3.0,\n          150.0\n        ],\n        \"semantic_type\": \"\",\n        \"description\": \"\"\n      }\n    },\n    {\n      \"column\": \"petal length (cm)\",\n      \"properties\": {\n        \"dtype\": \"number\",\n        \"std\": 51.83521261418364,\n        \"min\": 1.0,\n        \"max\": 150.0,\n        \"num_unique_values\": 8,\n        \"samples\": [\n          3.7580000000000005,\n          4.35,\n          150.0\n        ],\n        \"semantic_type\": \"\",\n        \"description\": \"\"\n      }\n    },\n    {\n      \"column\": \"petal width (cm)\",\n      \"properties\": {\n        \"dtype\": \"number\",\n        \"std\": 52.63664824261751,\n        \"min\": 0.1,\n        \"max\": 150.0,\n        \"num_unique_values\": 8,\n        \"samples\": [\n          1.1993333333333336,\n          1.3,\n          150.0\n        ],\n        \"semantic_type\": \"\",\n        \"description\": \"\"\n      }\n    },\n    {\n      \"column\": \"target\",\n      \"properties\": {\n        \"dtype\": \"number\",\n        \"std\": 52.69404575122032,\n        \"min\": 0.0,\n        \"max\": 150.0,\n        \"num_unique_values\": 5,\n        \"samples\": [\n          1.0,\n          2.0,\n          0.8192319205190405\n        ],\n        \"semantic_type\": \"\",\n        \"description\": \"\"\n      }\n    }\n  ]\n}"
            }
          },
          "metadata": {},
          "execution_count": 34
        }
      ]
    },
    {
      "cell_type": "markdown",
      "source": [
        "# Histogram of a feature"
      ],
      "metadata": {
        "id": "I9f2dexW7TOv"
      }
    },
    {
      "cell_type": "code",
      "source": [
        "def histogram(dataset, feature_name):\n",
        "  hist = dataset[feature_name].hist()\n",
        "  hist\n",
        "histogram(iris_data, \"petal length (cm)\")"
      ],
      "metadata": {
        "colab": {
          "base_uri": "https://localhost:8080/",
          "height": 430
        },
        "id": "Ct9Mv_iU399p",
        "outputId": "da878fb5-ae08-4617-ac27-7a31c8d4b3f2"
      },
      "execution_count": 36,
      "outputs": [
        {
          "output_type": "display_data",
          "data": {
            "text/plain": [
              "<Figure size 640x480 with 1 Axes>"
            ],
            "image/png": "[encoded data removed]"
          },
          "metadata": {}
        }
      ]
    },
    {
      "cell_type": "markdown",
      "source": [
        "# Mean of a list"
      ],
      "metadata": {
        "id": "Xms5YkEL9fjd"
      }
    },
    {
      "cell_type": "code",
      "source": [
        "import random\n",
        "l = []\n",
        "for _ in range(11):\n",
        "  l.append(random.randint(1, 1000))\n",
        "print(l)\n",
        "lst_mean = np.mean(l)\n",
        "print(f\"Mean of the lsit is {lst_mean}\")\n"
      ],
      "metadata": {
        "colab": {
          "base_uri": "https://localhost:8080/"
        },
        "id": "E5oqftJ27sCx",
        "outputId": "4faf5746-5639-41ac-d21f-316e725b5be1"
      },
      "execution_count": 38,
      "outputs": [
        {
          "output_type": "stream",
          "name": "stdout",
          "text": [
            "[923, 481, 503, 800, 171, 610, 46, 846, 954, 170, 459]\n",
            "Mean of the lsit is 542.0909090909091\n"
          ]
        }
      ]
    },
    {
      "cell_type": "markdown",
      "source": [
        "# Stats of a list"
      ],
      "metadata": {
        "id": "YLxQzSpX-es_"
      }
    },
    {
      "cell_type": "code",
      "source": [
        "def lst_stats(list):\n",
        "  stats_dict = {}\n",
        "  stats_dict[\"mean\"] = np.mean(list)\n",
        "  stats_dict[\"count\"] = len(list)\n",
        "  stats_dict[\"Median\"] = np.median(list)\n",
        "  stats_dict[\"Standard Deviation\"] = np.std(list)\n",
        "  return stats_dict\n",
        "\n",
        "print(l)\n",
        "stats_dict_lst = lst_stats(l)\n",
        "stats_dict_lst"
      ],
      "metadata": {
        "colab": {
          "base_uri": "https://localhost:8080/"
        },
        "id": "CFPxCEQF7sEt",
        "outputId": "1aad07c7-2848-4ead-bca4-9e8795eb02ea"
      },
      "execution_count": 40,
      "outputs": [
        {
          "output_type": "stream",
          "name": "stdout",
          "text": [
            "[923, 481, 503, 800, 171, 610, 46, 846, 954, 170, 459]\n"
          ]
        },
        {
          "output_type": "execute_result",
          "data": {
            "text/plain": [
              "{'mean': 542.0909090909091,\n",
              " 'count': 11,\n",
              " 'Median': 503.0,\n",
              " 'Standard Deviation': 303.4170410943431}"
            ]
          },
          "metadata": {},
          "execution_count": 40
        }
      ]
    },
    {
      "cell_type": "markdown",
      "source": [
        "# Generate a 5x5 matrix"
      ],
      "metadata": {
        "id": "q0Vp-aTMA5PD"
      }
    },
    {
      "cell_type": "code",
      "source": [
        "matrix = []\n",
        "\n",
        "for _ in range(5):\n",
        "  rows = []\n",
        "  for _ in range(5):\n",
        "\n",
        "    rows.append(random.randint(1, 100))\n",
        "  matrix.append(rows)\n",
        "\n",
        "matrix"
      ],
      "metadata": {
        "colab": {
          "base_uri": "https://localhost:8080/"
        },
        "id": "a7A83P8d7sIq",
        "outputId": "b25705d1-abdb-4a2d-95e7-089823357251"
      },
      "execution_count": 46,
      "outputs": [
        {
          "output_type": "execute_result",
          "data": {
            "text/plain": [
              "[[95, 71, 27, 10, 7],\n",
              " [50, 71, 64, 15, 24],\n",
              " [71, 7, 72, 22, 61],\n",
              " [78, 91, 90, 72, 19],\n",
              " [100, 61, 10, 99, 33]]"
            ]
          },
          "metadata": {},
          "execution_count": 46
        }
      ]
    },
    {
      "cell_type": "markdown",
      "source": [
        "# Summary statistics of a data set"
      ],
      "metadata": {
        "id": "2Ux4Ae_KDIgq"
      }
    },
    {
      "cell_type": "code",
      "source": [
        "from google.colab import files\n",
        "files.upload()"
      ],
      "metadata": {
        "colab": {
          "base_uri": "https://localhost:8080/",
          "height": 127
        },
        "id": "vibCbqKSA1ZE",
        "outputId": "8e9e9a76-4552-4525-d40a-3b76f9748d2d"
      },
      "execution_count": 47,
      "outputs": [
        {
          "output_type": "display_data",
          "data": {
            "text/plain": [
              "<IPython.core.display.HTML object>"
            ],
            "text/html": [
              "\n",
              "     <input type=\"file\" id=\"files-f0ebb0ed-fdaf-4b2e-8876-41003187ba78\" name=\"files[]\" multiple disabled\n",
              "        style=\"border:none\" />\n",
              "     <output id=\"result-f0ebb0ed-fdaf-4b2e-8876-41003187ba78\">\n",
              "      Upload widget is only available when the cell has been executed in the\n",
              "      current browser session. Please rerun this cell to enable.\n",
              "      </output>\n",
              "      <script>// Copyright 2017 Google LLC\n",
              "//\n",
              "// Licensed under the Apache License, Version 2.0 (the \"License\");\n",
              "// you may not use this file except in compliance with the License.\n",
              "// You may obtain a copy of the License at\n",
              "//\n",
              "//      http://www.apache.org/licenses/LICENSE-2.0\n",
              "//\n",
              "// Unless required by applicable law or agreed to in writing, software\n",
              "// distributed under the License is distributed on an \"AS IS\" BASIS,\n",
              "// WITHOUT WARRANTIES OR CONDITIONS OF ANY KIND, either express or implied.\n",
              "// See the License for the specific language governing permissions and\n",
              "// limitations under the License.\n",
              "\n",
              "/**\n",
              " * @fileoverview Helpers for google.colab Python module.\n",
              " */\n",
              "(function(scope) {\n",
              "function span(text, styleAttributes = {}) {\n",
              "  const element = document.createElement('span');\n",
              "  element.textContent = text;\n",
              "  for (const key of Object.keys(styleAttributes)) {\n",
              "    element.style[key] = styleAttributes[key];\n",
              "  }\n",
              "  return element;\n",
              "}\n",
              "\n",
              "// Max number of bytes which will be uploaded at a time.\n",
              "const MAX_PAYLOAD_SIZE = 100 * 1024;\n",
              "\n",
              "function _uploadFiles(inputId, outputId) {\n",
              "  const steps = uploadFilesStep(inputId, outputId);\n",
              "  const outputElement = document.getElementById(outputId);\n",
              "  // Cache steps on the outputElement to make it available for the next call\n",
              "  // to uploadFilesContinue from Python.\n",
              "  outputElement.steps = steps;\n",
              "\n",
              "  return _uploadFilesContinue(outputId);\n",
              "}\n",
              "\n",
              "// This is roughly an async generator (not supported in the browser yet),\n",
              "// where there are multiple asynchronous steps and the Python side is going\n",
              "// to poll for completion of each step.\n",
              "// This uses a Promise to block the python side on completion of each step,\n",
              "// then passes the result of the previous step as the input to the next step.\n",
              "function _uploadFilesContinue(outputId) {\n",
              "  const outputElement = document.getElementById(outputId);\n",
              "  const steps = outputElement.steps;\n",
              "\n",
              "  const next = steps.next(outputElement.lastPromiseValue);\n",
              "  return Promise.resolve(next.value.promise).then((value) => {\n",
              "    // Cache the last promise value to make it available to the next\n",
              "    // step of the generator.\n",
              "    outputElement.lastPromiseValue = value;\n",
              "    return next.value.response;\n",
              "  });\n",
              "}\n",
              "\n",
              "/**\n",
              " * Generator function which is called between each async step of the upload\n",
              " * process.\n",
              " * @param {string} inputId Element ID of the input file picker element.\n",
              " * @param {string} outputId Element ID of the output display.\n",
              " * @return {!Iterable<!Object>} Iterable of next steps.\n",
              " */\n",
              "function* uploadFilesStep(inputId, outputId) {\n",
              "  const inputElement = document.getElementById(inputId);\n",
              "  inputElement.disabled = false;\n",
              "\n",
              "  const outputElement = document.getElementById(outputId);\n",
              "  outputElement.innerHTML = '';\n",
              "\n",
              "  const pickedPromise = new Promise((resolve) => {\n",
              "    inputElement.addEventListener('change', (e) => {\n",
              "      resolve(e.target.files);\n",
              "    });\n",
              "  });\n",
              "\n",
              "  const cancel = document.createElement('button');\n",
              "  inputElement.parentElement.appendChild(cancel);\n",
              "  cancel.textContent = 'Cancel upload';\n",
              "  const cancelPromise = new Promise((resolve) => {\n",
              "    cancel.onclick = () => {\n",
              "      resolve(null);\n",
              "    };\n",
              "  });\n",
              "\n",
              "  // Wait for the user to pick the files.\n",
              "  const files = yield {\n",
              "    promise: Promise.race([pickedPromise, cancelPromise]),\n",
              "    response: {\n",
              "      action: 'starting',\n",
              "    }\n",
              "  };\n",
              "\n",
              "  cancel.remove();\n",
              "\n",
              "  // Disable the input element since further picks are not allowed.\n",
              "  inputElement.disabled = true;\n",
              "\n",
              "  if (!files) {\n",
              "    return {\n",
              "      response: {\n",
              "        action: 'complete',\n",
              "      }\n",
              "    };\n",
              "  }\n",
              "\n",
              "  for (const file of files) {\n",
              "    const li = document.createElement('li');\n",
              "    li.append(span(file.name, {fontWeight: 'bold'}));\n",
              "    li.append(span(\n",
              "        `(${file.type || 'n/a'}) - ${file.size} bytes, ` +\n",
              "        `last modified: ${\n",
              "            file.lastModifiedDate ? file.lastModifiedDate.toLocaleDateString() :\n",
              "                                    'n/a'} - `));\n",
              "    const percent = span('0% done');\n",
              "    li.appendChild(percent);\n",
              "\n",
              "    outputElement.appendChild(li);\n",
              "\n",
              "    const fileDataPromise = new Promise((resolve) => {\n",
              "      const reader = new FileReader();\n",
              "      reader.onload = (e) => {\n",
              "        resolve(e.target.result);\n",
              "      };\n",
              "      reader.readAsArrayBuffer(file);\n",
              "    });\n",
              "    // Wait for the data to be ready.\n",
              "    let fileData = yield {\n",
              "      promise: fileDataPromise,\n",
              "      response: {\n",
              "        action: 'continue',\n",
              "      }\n",
              "    };\n",
              "\n",
              "    // Use a chunked sending to avoid message size limits. See b/62115660.\n",
              "    let position = 0;\n",
              "    do {\n",
              "      const length = Math.min(fileData.byteLength - position, MAX_PAYLOAD_SIZE);\n",
              "      const chunk = new Uint8Array(fileData, position, length);\n",
              "      position += length;\n",
              "\n",
              "      const base64 = btoa(String.fromCharCode.apply(null, chunk));\n",
              "      yield {\n",
              "        response: {\n",
              "          action: 'append',\n",
              "          file: file.name,\n",
              "          data: base64,\n",
              "        },\n",
              "      };\n",
              "\n",
              "      let percentDone = fileData.byteLength === 0 ?\n",
              "          100 :\n",
              "          Math.round((position / fileData.byteLength) * 100);\n",
              "      percent.textContent = `${percentDone}% done`;\n",
              "\n",
              "    } while (position < fileData.byteLength);\n",
              "  }\n",
              "\n",
              "  // All done.\n",
              "  yield {\n",
              "    response: {\n",
              "      action: 'complete',\n",
              "    }\n",
              "  };\n",
              "}\n",
              "\n",
              "scope.google = scope.google || {};\n",
              "scope.google.colab = scope.google.colab || {};\n",
              "scope.google.colab._files = {\n",
              "  _uploadFiles,\n",
              "  _uploadFilesContinue,\n",
              "};\n",
              "})(self);\n",
              "</script> "
            ]
          },
          "metadata": {}
        },
        {
          "output_type": "stream",
          "name": "stdout",
          "text": [
            "Saving housing.csv to housing.csv\n"
          ]
        },
        {
          "output_type": "execute_result",
          "data": {
            "text/plain": [
              "{'housing.csv': b'RM,LSTAT,PTRATIO,MEDV\\n6.575,4.98,15.3,504000.0\\n6.421,9.14,17.8,453600.0\\n7.185,4.03,17.8,728700.0\\n6.998,2.94,18.7,701400.0\\n7.147,5.33,18.7,760200.0\\n6.43,5.21,18.7,602700.0\\n6.012,12.43,15.2,480900.0\\n6.172,19.15,15.2,569100.0\\n5.631,29.93,15.2,346500.0\\n6.004,17.1,15.2,396900.0\\n6.377,20.45,15.2,315000.0\\n6.009,13.27,15.2,396900.0\\n5.889,15.71,15.2,455700.0\\n5.949,8.26,21.0,428400.0\\n6.096,10.26,21.0,382200.0\\n5.834,8.47,21.0,417900.0\\n5.935,6.58,21.0,485100.0\\n5.99,14.67,21.0,367500.0\\n5.456,11.69,21.0,424200.0\\n5.727,11.28,21.0,382200.0\\n5.57,21.02,21.0,285600.0\\n5.965,13.83,21.0,411600.0\\n6.142,18.72,21.0,319200.0\\n5.813,19.88,21.0,304500.0\\n5.924,16.3,21.0,327600.0\\n5.599,16.51,21.0,291900.0\\n5.813,14.81,21.0,348600.0\\n6.047,17.28,21.0,310800.0\\n6.495,12.8,21.0,386400.0\\n6.674,11.98,21.0,441000.0\\n5.713,22.6,21.0,266700.0\\n6.072,13.04,21.0,304500.0\\n5.95,27.71,21.0,277200.0\\n5.701,18.35,21.0,275100.0\\n6.096,20.34,21.0,283500.0\\n5.933,9.68,19.2,396900.0\\n5.841,11.41,19.2,420000.0\\n5.85,8.77,19.2,441000.0\\n5.966,10.13,19.2,518700.0\\n6.595,4.32,18.3,646800.0\\n7.024,1.98,18.3,732900.0\\n6.77,4.84,17.9,558600.0\\n6.169,5.81,17.9,531300.0\\n6.211,7.44,17.9,518700.0\\n6.069,9.55,17.9,445200.0\\n5.682,10.21,17.9,405300.0\\n5.786,14.15,17.9,420000.0\\n6.03,18.8,17.9,348600.0\\n5.399,30.81,17.9,302400.0\\n5.602,16.2,17.9,407400.0\\n5.963,13.45,16.8,413700.0\\n6.115,9.43,16.8,430500.0\\n6.511,5.28,16.8,525000.0\\n5.998,8.43,16.8,491400.0\\n5.888,14.8,21.1,396900.0\\n7.249,4.81,17.9,743400.0\\n6.383,5.77,17.3,518700.0\\n6.816,3.95,15.1,663600.0\\n6.145,6.86,19.7,489300.0\\n5.927,9.22,19.7,411600.0\\n5.741,13.15,19.7,392700.0\\n5.966,14.44,19.7,336000.0\\n6.456,6.73,19.7,466200.0\\n6.762,9.5,19.7,525000.0\\n7.104,8.05,18.6,693000.0\\n6.29,4.67,16.1,493500.0\\n5.787,10.24,16.1,407400.0\\n5.878,8.1,18.9,462000.0\\n5.594,13.09,18.9,365400.0\\n5.885,8.79,18.9,438900.0\\n6.417,6.72,19.2,508200.0\\n5.961,9.88,19.2,455700.0\\n6.065,5.52,19.2,478800.0\\n6.245,7.54,19.2,491400.0\\n6.273,6.78,18.7,506100.0\\n6.286,8.94,18.7,449400.0\\n6.279,11.97,18.7,420000.0\\n6.14,10.27,18.7,436800.0\\n6.232,12.34,18.7,445200.0\\n5.874,9.1,18.7,426300.0\\n6.727,5.29,19.0,588000.0\\n6.619,7.22,19.0,501900.0\\n6.302,6.72,19.0,520800.0\\n6.167,7.51,19.0,480900.0\\n6.389,9.62,18.5,501900.0\\n6.63,6.53,18.5,558600.0\\n6.015,12.86,18.5,472500.0\\n6.121,8.44,18.5,466200.0\\n7.007,5.5,17.8,495600.0\\n7.079,5.7,17.8,602700.0\\n6.417,8.81,17.8,474600.0\\n6.405,8.2,17.8,462000.0\\n6.442,8.16,18.2,480900.0\\n6.211,6.21,18.2,525000.0\\n6.249,10.59,18.2,432600.0\\n6.625,6.65,18.0,596400.0\\n6.163,11.34,18.0,449400.0\\n8.069,4.21,18.0,812700.0\\n7.82,3.57,18.0,919800.0\\n7.416,6.19,18.0,697200.0\\n6.727,9.42,20.9,577500.0\\n6.781,7.67,20.9,556500.0\\n6.405,10.63,20.9,390600.0\\n6.137,13.44,20.9,405300.0\\n6.167,12.33,20.9,422100.0\\n5.851,16.47,20.9,409500.0\\n5.836,18.66,20.9,409500.0\\n6.127,14.09,20.9,428400.0\\n6.474,12.27,20.9,415800.0\\n6.229,15.55,20.9,407400.0\\n6.195,13.0,20.9,455700.0\\n6.715,10.16,17.8,478800.0\\n5.913,16.21,17.8,394800.0\\n6.092,17.09,17.8,392700.0\\n6.254,10.45,17.8,388500.0\\n5.928,15.76,17.8,384300.0\\n6.176,12.04,17.8,445200.0\\n6.021,10.3,17.8,403200.0\\n5.872,15.37,17.8,428400.0\\n5.731,13.61,17.8,405300.0\\n5.87,14.37,19.1,462000.0\\n6.004,14.27,19.1,426300.0\\n5.961,17.93,19.1,430500.0\\n5.856,25.41,19.1,363300.0\\n5.879,17.58,19.1,394800.0\\n5.986,14.81,19.1,449400.0\\n5.613,27.26,19.1,329700.0\\n5.693,17.19,21.2,340200.0\\n6.431,15.39,21.2,378000.0\\n5.637,18.34,21.2,300300.0\\n6.458,12.6,21.2,403200.0\\n6.326,12.26,21.2,411600.0\\n6.372,11.12,21.2,483000.0\\n5.822,15.03,21.2,386400.0\\n5.757,17.31,21.2,327600.0\\n6.335,16.96,21.2,380100.0\\n5.942,16.9,21.2,365400.0\\n6.454,14.59,21.2,359100.0\\n5.857,21.32,21.2,279300.0\\n6.151,18.46,21.2,373800.0\\n6.174,24.16,21.2,294000.0\\n5.019,34.41,21.2,302400.0\\n5.403,26.82,14.7,281400.0\\n5.468,26.42,14.7,327600.0\\n4.903,29.29,14.7,247800.0\\n6.13,27.8,14.7,289800.0\\n5.628,16.65,14.7,327600.0\\n4.926,29.53,14.7,306600.0\\n5.186,28.32,14.7,373800.0\\n5.597,21.45,14.7,323400.0\\n6.122,14.1,14.7,451500.0\\n5.404,13.28,14.7,411600.0\\n5.012,12.12,14.7,321300.0\\n5.709,15.79,14.7,407400.0\\n6.129,15.12,14.7,357000.0\\n6.152,15.02,14.7,327600.0\\n5.272,16.14,14.7,275100.0\\n6.943,4.59,14.7,867300.0\\n6.066,6.43,14.7,510300.0\\n6.51,7.39,14.7,489300.0\\n6.25,5.5,14.7,567000.0\\n5.854,11.64,14.7,476700.0\\n6.101,9.81,14.7,525000.0\\n5.877,12.14,14.7,499800.0\\n6.319,11.1,14.7,499800.0\\n6.402,11.32,14.7,468300.0\\n5.875,14.43,14.7,365400.0\\n5.88,12.03,14.7,401100.0\\n5.572,14.69,16.6,485100.0\\n6.416,9.04,16.6,495600.0\\n5.859,9.64,16.6,474600.0\\n6.546,5.33,16.6,617400.0\\n6.02,10.11,16.6,487200.0\\n6.315,6.29,16.6,516600.0\\n6.86,6.92,16.6,627900.0\\n6.98,5.04,17.8,781200.0\\n7.765,7.56,17.8,835800.0\\n6.144,9.45,17.8,760200.0\\n7.155,4.82,17.8,795900.0\\n6.563,5.68,17.8,682500.0\\n5.604,13.98,17.8,554400.0\\n6.153,13.15,17.8,621600.0\\n6.782,6.68,15.2,672000.0\\n6.556,4.56,15.2,625800.0\\n7.185,5.39,15.2,732900.0\\n6.951,5.1,15.2,777000.0\\n6.739,4.69,15.2,640500.0\\n7.178,2.87,15.2,764400.0\\n6.8,5.03,15.6,653100.0\\n6.604,4.38,15.6,611100.0\\n7.287,4.08,12.6,699300.0\\n7.107,8.61,12.6,636300.0\\n7.274,6.62,12.6,726600.0\\n6.975,4.56,17.0,732900.0\\n7.135,4.45,17.0,690900.0\\n6.162,7.43,14.7,506100.0\\n7.61,3.11,14.7,888300.0\\n7.853,3.81,14.7,1018500.0\\n5.891,10.87,18.6,474600.0\\n6.326,10.97,18.6,512400.0\\n5.783,18.06,18.6,472500.0\\n6.064,14.66,18.6,512400.0\\n5.344,23.09,18.6,420000.0\\n5.96,17.27,18.6,455700.0\\n5.404,23.98,18.6,405300.0\\n5.807,16.03,18.6,470400.0\\n6.375,9.38,18.6,590100.0\\n5.412,29.55,18.6,497700.0\\n6.182,9.47,18.6,525000.0\\n5.888,13.51,16.4,489300.0\\n6.642,9.69,16.4,602700.0\\n5.951,17.92,16.4,451500.0\\n6.373,10.5,16.4,483000.0\\n6.951,9.71,17.4,560700.0\\n6.164,21.46,17.4,455700.0\\n6.879,9.93,17.4,577500.0\\n6.618,7.6,17.4,632100.0\\n8.266,4.14,17.4,940800.0\\n8.04,3.13,17.4,789600.0\\n7.163,6.36,17.4,663600.0\\n7.686,3.92,17.4,980700.0\\n6.552,3.76,17.4,661500.0\\n5.981,11.65,17.4,510300.0\\n7.412,5.25,17.4,665700.0\\n8.337,2.47,17.4,875700.0\\n8.247,3.95,17.4,1014300.0\\n6.726,8.05,17.4,609000.0\\n6.086,10.88,17.4,504000.0\\n6.631,9.54,17.4,527100.0\\n7.358,4.73,17.4,661500.0\\n6.481,6.36,16.6,497700.0\\n6.606,7.37,16.6,489300.0\\n6.897,11.38,16.6,462000.0\\n6.095,12.4,16.6,422100.0\\n6.358,11.22,16.6,466200.0\\n6.393,5.19,16.6,497700.0\\n5.593,12.5,19.1,369600.0\\n5.605,18.46,19.1,388500.0\\n6.108,9.16,19.1,510300.0\\n6.226,10.15,19.1,430500.0\\n6.433,9.52,19.1,514500.0\\n6.718,6.56,19.1,550200.0\\n6.487,5.9,19.1,512400.0\\n6.438,3.59,19.1,520800.0\\n6.957,3.53,19.1,621600.0\\n8.259,3.54,19.1,898800.0\\n6.108,6.57,16.4,459900.0\\n5.876,9.25,16.4,438900.0\\n7.454,3.11,15.9,924000.0\\n7.333,7.79,13.0,756000.0\\n6.842,6.9,13.0,632100.0\\n7.203,9.59,13.0,709800.0\\n7.52,7.26,13.0,905100.0\\n8.398,5.91,13.0,1024800.0\\n7.327,11.25,13.0,651000.0\\n7.206,8.1,13.0,766500.0\\n5.56,10.45,13.0,478800.0\\n7.014,14.79,13.0,644700.0\\n7.47,3.16,13.0,913500.0\\n5.92,13.65,18.6,434700.0\\n5.856,13.0,18.6,443100.0\\n6.24,6.59,18.6,529200.0\\n6.538,7.73,18.6,512400.0\\n7.691,6.58,18.6,739200.0\\n6.758,3.53,17.6,680400.0\\n6.854,2.98,17.6,672000.0\\n7.267,6.05,17.6,697200.0\\n6.826,4.16,17.6,695100.0\\n6.482,7.19,17.6,611100.0\\n6.812,4.85,14.9,737100.0\\n7.82,3.76,14.9,953400.0\\n6.968,4.59,14.9,743400.0\\n7.645,3.01,14.9,966000.0\\n7.088,7.85,15.3,676200.0\\n6.453,8.23,15.3,462000.0\\n6.23,12.93,18.2,422100.0\\n6.209,7.14,16.6,487200.0\\n6.315,7.6,16.6,468300.0\\n6.565,9.51,16.6,520800.0\\n6.861,3.33,19.2,598500.0\\n7.148,3.56,19.2,783300.0\\n6.63,4.7,19.2,585900.0\\n6.127,8.58,16.0,501900.0\\n6.009,10.4,16.0,455700.0\\n6.678,6.27,16.0,600600.0\\n6.549,7.39,16.0,569100.0\\n5.79,15.84,16.0,426300.0\\n6.345,4.97,14.8,472500.0\\n7.041,4.74,14.8,609000.0\\n6.871,6.07,14.8,520800.0\\n6.59,9.5,16.1,462000.0\\n6.495,8.67,16.1,554400.0\\n6.982,4.86,16.1,695100.0\\n7.236,6.93,18.4,758100.0\\n6.616,8.93,18.4,596400.0\\n7.42,6.47,18.4,701400.0\\n6.849,7.53,18.4,592200.0\\n6.635,4.54,18.4,478800.0\\n5.972,9.97,18.4,426300.0\\n4.973,12.64,18.4,338100.0\\n6.122,5.98,18.4,464100.0\\n6.023,11.72,18.4,407400.0\\n6.266,7.9,18.4,453600.0\\n6.567,9.28,18.4,499800.0\\n5.705,11.5,18.4,340200.0\\n5.914,18.33,18.4,373800.0\\n5.782,15.94,18.4,415800.0\\n6.382,10.36,18.4,485100.0\\n6.113,12.73,18.4,441000.0\\n6.426,7.2,19.6,499800.0\\n6.376,6.87,19.6,485100.0\\n6.041,7.7,19.6,428400.0\\n5.708,11.74,19.6,388500.0\\n6.415,6.12,19.6,525000.0\\n6.431,5.08,19.6,516600.0\\n6.312,6.15,19.6,483000.0\\n6.083,12.79,19.6,466200.0\\n5.868,9.97,16.9,405300.0\\n6.333,7.34,16.9,474600.0\\n6.144,9.09,16.9,415800.0\\n5.706,12.43,16.9,359100.0\\n6.031,7.83,16.9,407400.0\\n6.316,5.68,20.2,466200.0\\n6.31,6.75,20.2,434700.0\\n6.037,8.01,20.2,443100.0\\n5.869,9.8,20.2,409500.0\\n5.895,10.56,20.2,388500.0\\n6.059,8.51,20.2,432600.0\\n5.985,9.74,20.2,399000.0\\n5.968,9.29,20.2,392700.0\\n7.241,5.49,15.5,686700.0\\n6.54,8.65,15.9,346500.0\\n6.696,7.18,17.6,501900.0\\n6.874,4.61,17.6,655200.0\\n6.014,10.53,18.8,367500.0\\n5.898,12.67,18.8,361200.0\\n6.516,6.36,17.9,485100.0\\n6.635,5.99,17.0,514500.0\\n6.939,5.89,19.7,558600.0\\n6.49,5.98,19.7,480900.0\\n6.579,5.49,18.3,506100.0\\n5.884,7.79,18.3,390600.0\\n6.728,4.5,17.0,632100.0\\n5.663,8.05,22.0,382200.0\\n5.936,5.57,22.0,432600.0\\n6.212,17.6,20.2,373800.0\\n6.395,13.27,20.2,455700.0\\n6.127,11.48,20.2,476700.0\\n6.112,12.67,20.2,474600.0\\n6.398,7.79,20.2,525000.0\\n6.251,14.19,20.2,417900.0\\n5.362,10.19,20.2,436800.0\\n5.803,14.64,20.2,352800.0\\n3.561,7.12,20.2,577500.0\\n4.963,14.0,20.2,459900.0\\n3.863,13.33,20.2,485100.0\\n4.906,34.77,20.2,289800.0\\n4.138,37.97,20.2,289800.0\\n7.313,13.44,20.2,315000.0\\n6.649,23.24,20.2,291900.0\\n6.794,21.24,20.2,279300.0\\n6.38,23.69,20.2,275100.0\\n6.223,21.78,20.2,214200.0\\n6.968,17.21,20.2,218400.0\\n6.545,21.08,20.2,228900.0\\n5.536,23.6,20.2,237300.0\\n5.52,24.56,20.2,258300.0\\n4.368,30.63,20.2,184800.0\\n5.277,30.81,20.2,151200.0\\n4.652,28.28,20.2,220500.0\\n5.0,31.99,20.2,155400.0\\n4.88,30.62,20.2,214200.0\\n5.39,20.85,20.2,241500.0\\n5.713,17.11,20.2,317100.0\\n6.051,18.76,20.2,487200.0\\n5.036,25.68,20.2,203700.0\\n6.193,15.17,20.2,289800.0\\n5.887,16.35,20.2,266700.0\\n6.471,17.12,20.2,275100.0\\n6.405,19.37,20.2,262500.0\\n5.747,19.92,20.2,178500.0\\n5.453,30.59,20.2,105000.0\\n5.852,29.97,20.2,132300.0\\n5.987,26.77,20.2,117600.0\\n6.343,20.32,20.2,151200.0\\n6.404,20.31,20.2,254100.0\\n5.349,19.77,20.2,174300.0\\n5.531,27.38,20.2,178500.0\\n5.683,22.98,20.2,105000.0\\n4.138,23.34,20.2,249900.0\\n5.608,12.13,20.2,585900.0\\n5.617,26.4,20.2,361200.0\\n6.852,19.78,20.2,577500.0\\n5.757,10.11,20.2,315000.0\\n6.657,21.22,20.2,361200.0\\n4.628,34.37,20.2,375900.0\\n5.155,20.08,20.2,342300.0\\n4.519,36.98,20.2,147000.0\\n6.434,29.05,20.2,151200.0\\n6.782,25.79,20.2,157500.0\\n5.304,26.64,20.2,218400.0\\n5.957,20.62,20.2,184800.0\\n6.824,22.74,20.2,176400.0\\n6.411,15.02,20.2,350700.0\\n6.006,15.7,20.2,298200.0\\n5.648,14.1,20.2,436800.0\\n6.103,23.29,20.2,281400.0\\n5.565,17.16,20.2,245700.0\\n5.896,24.39,20.2,174300.0\\n5.837,15.69,20.2,214200.0\\n6.202,14.52,20.2,228900.0\\n6.193,21.52,20.2,231000.0\\n6.38,24.08,20.2,199500.0\\n6.348,17.64,20.2,304500.0\\n6.833,19.69,20.2,296100.0\\n6.425,12.03,20.2,338100.0\\n6.436,16.22,20.2,300300.0\\n6.208,15.17,20.2,245700.0\\n6.629,23.27,20.2,281400.0\\n6.461,18.05,20.2,201600.0\\n6.152,26.45,20.2,182700.0\\n5.935,34.02,20.2,176400.0\\n5.627,22.88,20.2,268800.0\\n5.818,22.11,20.2,220500.0\\n6.406,19.52,20.2,359100.0\\n6.219,16.59,20.2,386400.0\\n6.485,18.85,20.2,323400.0\\n5.854,23.79,20.2,226800.0\\n6.459,23.98,20.2,247800.0\\n6.341,17.79,20.2,312900.0\\n6.251,16.44,20.2,264600.0\\n6.185,18.13,20.2,296100.0\\n6.417,19.31,20.2,273000.0\\n6.749,17.44,20.2,281400.0\\n6.655,17.73,20.2,319200.0\\n6.297,17.27,20.2,338100.0\\n7.393,16.74,20.2,373800.0\\n6.728,18.71,20.2,312900.0\\n6.525,18.13,20.2,296100.0\\n5.976,19.01,20.2,266700.0\\n5.936,16.94,20.2,283500.0\\n6.301,16.23,20.2,312900.0\\n6.081,14.7,20.2,420000.0\\n6.701,16.42,20.2,344400.0\\n6.376,14.65,20.2,371700.0\\n6.317,13.99,20.2,409500.0\\n6.513,10.29,20.2,424200.0\\n6.209,13.22,20.2,449400.0\\n5.759,14.13,20.2,417900.0\\n5.952,17.15,20.2,399000.0\\n6.003,21.32,20.2,401100.0\\n5.926,18.13,20.2,401100.0\\n5.713,14.76,20.2,422100.0\\n6.167,16.29,20.2,417900.0\\n6.229,12.87,20.2,411600.0\\n6.437,14.36,20.2,487200.0\\n6.98,11.66,20.2,625800.0\\n5.427,18.14,20.2,289800.0\\n6.162,24.1,20.2,279300.0\\n6.484,18.68,20.2,350700.0\\n5.304,24.91,20.2,252000.0\\n6.185,18.03,20.2,306600.0\\n6.229,13.11,20.2,449400.0\\n6.242,10.74,20.2,483000.0\\n6.75,7.74,20.2,497700.0\\n7.061,7.01,20.2,525000.0\\n5.762,10.42,20.2,457800.0\\n5.871,13.34,20.2,432600.0\\n6.312,10.58,20.2,445200.0\\n6.114,14.98,20.2,401100.0\\n5.905,11.45,20.2,432600.0\\n5.454,18.06,20.1,319200.0\\n5.414,23.97,20.1,147000.0\\n5.093,29.68,20.1,170100.0\\n5.983,18.07,20.1,285600.0\\n5.983,13.35,20.1,422100.0\\n5.707,12.01,19.2,457800.0\\n5.926,13.59,19.2,514500.0\\n5.67,17.6,19.2,485100.0\\n5.39,21.14,19.2,413700.0\\n5.794,14.1,19.2,384300.0\\n6.019,12.92,19.2,445200.0\\n5.569,15.1,19.2,367500.0\\n6.027,14.33,19.2,352800.0\\n6.593,9.67,21.0,470400.0\\n6.12,9.08,21.0,432600.0\\n6.976,5.64,21.0,501900.0\\n6.794,6.48,21.0,462000.0\\n6.03,7.88,21.0,249900.0\\n'}"
            ]
          },
          "metadata": {},
          "execution_count": 47
        }
      ]
    },
    {
      "cell_type": "code",
      "source": [
        "df = pd.read_csv(\"housing.csv\")\n",
        "df.head()\n",
        "des_stats = df.describe()\n",
        "des_stats"
      ],
      "metadata": {
        "colab": {
          "base_uri": "https://localhost:8080/",
          "height": 300
        },
        "id": "cCXdErV2A1bB",
        "outputId": "2afa77c7-b01c-4cf8-c397-ba7e0d85952a"
      },
      "execution_count": 48,
      "outputs": [
        {
          "output_type": "execute_result",
          "data": {
            "text/plain": [
              "               RM       LSTAT     PTRATIO          MEDV\n",
              "count  489.000000  489.000000  489.000000  4.890000e+02\n",
              "mean     6.240288   12.939632   18.516564  4.543429e+05\n",
              "std      0.643650    7.081990    2.111268  1.653403e+05\n",
              "min      3.561000    1.980000   12.600000  1.050000e+05\n",
              "25%      5.880000    7.370000   17.400000  3.507000e+05\n",
              "50%      6.185000   11.690000   19.100000  4.389000e+05\n",
              "75%      6.575000   17.120000   20.200000  5.187000e+05\n",
              "max      8.398000   37.970000   22.000000  1.024800e+06"
            ],
            "text/html": [
              "\n",
              "  <div id=\"df-39c32651-bb73-4a5e-9633-62d5c105e6f7\" class=\"colab-df-container\">\n",
              "    <div>\n",
              "<style scoped>\n",
              "    .dataframe tbody tr th:only-of-type {\n",
              "        vertical-align: middle;\n",
              "    }\n",
              "\n",
              "    .dataframe tbody tr th {\n",
              "        vertical-align: top;\n",
              "    }\n",
              "\n",
              "    .dataframe thead th {\n",
              "        text-align: right;\n",
              "    }\n",
              "</style>\n",
              "<table border=\"1\" class=\"dataframe\">\n",
              "  <thead>\n",
              "    <tr style=\"text-align: right;\">\n",
              "      <th></th>\n",
              "      <th>RM</th>\n",
              "      <th>LSTAT</th>\n",
              "      <th>PTRATIO</th>\n",
              "      <th>MEDV</th>\n",
              "    </tr>\n",
              "  </thead>\n",
              "  <tbody>\n",
              "    <tr>\n",
              "      <th>count</th>\n",
              "      <td>489.000000</td>\n",
              "      <td>489.000000</td>\n",
              "      <td>489.000000</td>\n",
              "      <td>4.890000e+02</td>\n",
              "    </tr>\n",
              "    <tr>\n",
              "      <th>mean</th>\n",
              "      <td>6.240288</td>\n",
              "      <td>12.939632</td>\n",
              "      <td>18.516564</td>\n",
              "      <td>4.543429e+05</td>\n",
              "    </tr>\n",
              "    <tr>\n",
              "      <th>std</th>\n",
              "      <td>0.643650</td>\n",
              "      <td>7.081990</td>\n",
              "      <td>2.111268</td>\n",
              "      <td>1.653403e+05</td>\n",
              "    </tr>\n",
              "    <tr>\n",
              "      <th>min</th>\n",
              "      <td>3.561000</td>\n",
              "      <td>1.980000</td>\n",
              "      <td>12.600000</td>\n",
              "      <td>1.050000e+05</td>\n",
              "    </tr>\n",
              "    <tr>\n",
              "      <th>25%</th>\n",
              "      <td>5.880000</td>\n",
              "      <td>7.370000</td>\n",
              "      <td>17.400000</td>\n",
              "      <td>3.507000e+05</td>\n",
              "    </tr>\n",
              "    <tr>\n",
              "      <th>50%</th>\n",
              "      <td>6.185000</td>\n",
              "      <td>11.690000</td>\n",
              "      <td>19.100000</td>\n",
              "      <td>4.389000e+05</td>\n",
              "    </tr>\n",
              "    <tr>\n",
              "      <th>75%</th>\n",
              "      <td>6.575000</td>\n",
              "      <td>17.120000</td>\n",
              "      <td>20.200000</td>\n",
              "      <td>5.187000e+05</td>\n",
              "    </tr>\n",
              "    <tr>\n",
              "      <th>max</th>\n",
              "      <td>8.398000</td>\n",
              "      <td>37.970000</td>\n",
              "      <td>22.000000</td>\n",
              "      <td>1.024800e+06</td>\n",
              "    </tr>\n",
              "  </tbody>\n",
              "</table>\n",
              "</div>\n",
              "    <div class=\"colab-df-buttons\">\n",
              "\n",
              "  <div class=\"colab-df-container\">\n",
              "    <button class=\"colab-df-convert\" onclick=\"convertToInteractive('df-39c32651-bb73-4a5e-9633-62d5c105e6f7')\"\n",
              "            title=\"Convert this dataframe to an interactive table.\"\n",
              "            style=\"display:none;\">\n",
              "\n",
              "  <svg xmlns=\"http://www.w3.org/2000/svg\" height=\"24px\" viewBox=\"0 -960 960 960\">\n",
              "    <path d=\"M120-120v-720h720v720H120Zm60-500h600v-160H180v160Zm220 220h160v-160H400v160Zm0 220h160v-160H400v160ZM180-400h160v-160H180v160Zm440 0h160v-160H620v160ZM180-180h160v-160H180v160Zm440 0h160v-160H620v160Z\"/>\n",
              "  </svg>\n",
              "    </button>\n",
              "\n",
              "  <style>\n",
              "    .colab-df-container {\n",
              "      display:flex;\n",
              "      gap: 12px;\n",
              "    }\n",
              "\n",
              "    .colab-df-convert {\n",
              "      background-color: #E8F0FE;\n",
              "      border: none;\n",
              "      border-radius: 50%;\n",
              "      cursor: pointer;\n",
              "      display: none;\n",
              "      fill: #1967D2;\n",
              "      height: 32px;\n",
              "      padding: 0 0 0 0;\n",
              "      width: 32px;\n",
              "    }\n",
              "\n",
              "    .colab-df-convert:hover {\n",
              "      background-color: #E2EBFA;\n",
              "      box-shadow: 0px 1px 2px rgba(60, 64, 67, 0.3), 0px 1px 3px 1px rgba(60, 64, 67, 0.15);\n",
              "      fill: #174EA6;\n",
              "    }\n",
              "\n",
              "    .colab-df-buttons div {\n",
              "      margin-bottom: 4px;\n",
              "    }\n",
              "\n",
              "    [theme=dark] .colab-df-convert {\n",
              "      background-color: #3B4455;\n",
              "      fill: #D2E3FC;\n",
              "    }\n",
              "\n",
              "    [theme=dark] .colab-df-convert:hover {\n",
              "      background-color: #434B5C;\n",
              "      box-shadow: 0px 1px 3px 1px rgba(0, 0, 0, 0.15);\n",
              "      filter: drop-shadow(0px 1px 2px rgba(0, 0, 0, 0.3));\n",
              "      fill: #FFFFFF;\n",
              "    }\n",
              "  </style>\n",
              "\n",
              "    <script>\n",
              "      const buttonEl =\n",
              "        document.querySelector('#df-39c32651-bb73-4a5e-9633-62d5c105e6f7 button.colab-df-convert');\n",
              "      buttonEl.style.display =\n",
              "        google.colab.kernel.accessAllowed ? 'block' : 'none';\n",
              "\n",
              "      async function convertToInteractive(key) {\n",
              "        const element = document.querySelector('#df-39c32651-bb73-4a5e-9633-62d5c105e6f7');\n",
              "        const dataTable =\n",
              "          await google.colab.kernel.invokeFunction('convertToInteractive',\n",
              "                                                    [key], {});\n",
              "        if (!dataTable) return;\n",
              "\n",
              "        const docLinkHtml = 'Like what you see? Visit the ' +\n",
              "          '<a target=\"_blank\" href=https://colab.research.google.com/notebooks/data_table.ipynb>data table notebook</a>'\n",
              "          + ' to learn more about interactive tables.';\n",
              "        element.innerHTML = '';\n",
              "        dataTable['output_type'] = 'display_data';\n",
              "        await google.colab.output.renderOutput(dataTable, element);\n",
              "        const docLink = document.createElement('div');\n",
              "        docLink.innerHTML = docLinkHtml;\n",
              "        element.appendChild(docLink);\n",
              "      }\n",
              "    </script>\n",
              "  </div>\n",
              "\n",
              "\n",
              "<div id=\"df-4fc558d8-6cab-4eb0-8a2e-d3e84ee64f9f\">\n",
              "  <button class=\"colab-df-quickchart\" onclick=\"quickchart('df-4fc558d8-6cab-4eb0-8a2e-d3e84ee64f9f')\"\n",
              "            title=\"Suggest charts\"\n",
              "            style=\"display:none;\">\n",
              "\n",
              "<svg xmlns=\"http://www.w3.org/2000/svg\" height=\"24px\"viewBox=\"0 0 24 24\"\n",
              "     width=\"24px\">\n",
              "    <g>\n",
              "        <path d=\"M19 3H5c-1.1 0-2 .9-2 2v14c0 1.1.9 2 2 2h14c1.1 0 2-.9 2-2V5c0-1.1-.9-2-2-2zM9 17H7v-7h2v7zm4 0h-2V7h2v10zm4 0h-2v-4h2v4z\"/>\n",
              "    </g>\n",
              "</svg>\n",
              "  </button>\n",
              "\n",
              "<style>\n",
              "  .colab-df-quickchart {\n",
              "      --bg-color: #E8F0FE;\n",
              "      --fill-color: #1967D2;\n",
              "      --hover-bg-color: #E2EBFA;\n",
              "      --hover-fill-color: #174EA6;\n",
              "      --disabled-fill-color: #AAA;\n",
              "      --disabled-bg-color: #DDD;\n",
              "  }\n",
              "\n",
              "  [theme=dark] .colab-df-quickchart {\n",
              "      --bg-color: #3B4455;\n",
              "      --fill-color: #D2E3FC;\n",
              "      --hover-bg-color: #434B5C;\n",
              "      --hover-fill-color: #FFFFFF;\n",
              "      --disabled-bg-color: #3B4455;\n",
              "      --disabled-fill-color: #666;\n",
              "  }\n",
              "\n",
              "  .colab-df-quickchart {\n",
              "    background-color: var(--bg-color);\n",
              "    border: none;\n",
              "    border-radius: 50%;\n",
              "    cursor: pointer;\n",
              "    display: none;\n",
              "    fill: var(--fill-color);\n",
              "    height: 32px;\n",
              "    padding: 0;\n",
              "    width: 32px;\n",
              "  }\n",
              "\n",
              "  .colab-df-quickchart:hover {\n",
              "    background-color: var(--hover-bg-color);\n",
              "    box-shadow: 0 1px 2px rgba(60, 64, 67, 0.3), 0 1px 3px 1px rgba(60, 64, 67, 0.15);\n",
              "    fill: var(--button-hover-fill-color);\n",
              "  }\n",
              "\n",
              "  .colab-df-quickchart-complete:disabled,\n",
              "  .colab-df-quickchart-complete:disabled:hover {\n",
              "    background-color: var(--disabled-bg-color);\n",
              "    fill: var(--disabled-fill-color);\n",
              "    box-shadow: none;\n",
              "  }\n",
              "\n",
              "  .colab-df-spinner {\n",
              "    border: 2px solid var(--fill-color);\n",
              "    border-color: transparent;\n",
              "    border-bottom-color: var(--fill-color);\n",
              "    animation:\n",
              "      spin 1s steps(1) infinite;\n",
              "  }\n",
              "\n",
              "  @keyframes spin {\n",
              "    0% {\n",
              "      border-color: transparent;\n",
              "      border-bottom-color: var(--fill-color);\n",
              "      border-left-color: var(--fill-color);\n",
              "    }\n",
              "    20% {\n",
              "      border-color: transparent;\n",
              "      border-left-color: var(--fill-color);\n",
              "      border-top-color: var(--fill-color);\n",
              "    }\n",
              "    30% {\n",
              "      border-color: transparent;\n",
              "      border-left-color: var(--fill-color);\n",
              "      border-top-color: var(--fill-color);\n",
              "      border-right-color: var(--fill-color);\n",
              "    }\n",
              "    40% {\n",
              "      border-color: transparent;\n",
              "      border-right-color: var(--fill-color);\n",
              "      border-top-color: var(--fill-color);\n",
              "    }\n",
              "    60% {\n",
              "      border-color: transparent;\n",
              "      border-right-color: var(--fill-color);\n",
              "    }\n",
              "    80% {\n",
              "      border-color: transparent;\n",
              "      border-right-color: var(--fill-color);\n",
              "      border-bottom-color: var(--fill-color);\n",
              "    }\n",
              "    90% {\n",
              "      border-color: transparent;\n",
              "      border-bottom-color: var(--fill-color);\n",
              "    }\n",
              "  }\n",
              "</style>\n",
              "\n",
              "  <script>\n",
              "    async function quickchart(key) {\n",
              "      const quickchartButtonEl =\n",
              "        document.querySelector('#' + key + ' button');\n",
              "      quickchartButtonEl.disabled = true;  // To prevent multiple clicks.\n",
              "      quickchartButtonEl.classList.add('colab-df-spinner');\n",
              "      try {\n",
              "        const charts = await google.colab.kernel.invokeFunction(\n",
              "            'suggestCharts', [key], {});\n",
              "      } catch (error) {\n",
              "        console.error('Error during call to suggestCharts:', error);\n",
              "      }\n",
              "      quickchartButtonEl.classList.remove('colab-df-spinner');\n",
              "      quickchartButtonEl.classList.add('colab-df-quickchart-complete');\n",
              "    }\n",
              "    (() => {\n",
              "      let quickchartButtonEl =\n",
              "        document.querySelector('#df-4fc558d8-6cab-4eb0-8a2e-d3e84ee64f9f button');\n",
              "      quickchartButtonEl.style.display =\n",
              "        google.colab.kernel.accessAllowed ? 'block' : 'none';\n",
              "    })();\n",
              "  </script>\n",
              "</div>\n",
              "\n",
              "  <div id=\"id_9458a87b-0c68-46a7-a050-bd3170bc3998\">\n",
              "    <style>\n",
              "      .colab-df-generate {\n",
              "        background-color: #E8F0FE;\n",
              "        border: none;\n",
              "        border-radius: 50%;\n",
              "        cursor: pointer;\n",
              "        display: none;\n",
              "        fill: #1967D2;\n",
              "        height: 32px;\n",
              "        padding: 0 0 0 0;\n",
              "        width: 32px;\n",
              "      }\n",
              "\n",
              "      .colab-df-generate:hover {\n",
              "        background-color: #E2EBFA;\n",
              "        box-shadow: 0px 1px 2px rgba(60, 64, 67, 0.3), 0px 1px 3px 1px rgba(60, 64, 67, 0.15);\n",
              "        fill: #174EA6;\n",
              "      }\n",
              "\n",
              "      [theme=dark] .colab-df-generate {\n",
              "        background-color: #3B4455;\n",
              "        fill: #D2E3FC;\n",
              "      }\n",
              "\n",
              "      [theme=dark] .colab-df-generate:hover {\n",
              "        background-color: #434B5C;\n",
              "        box-shadow: 0px 1px 3px 1px rgba(0, 0, 0, 0.15);\n",
              "        filter: drop-shadow(0px 1px 2px rgba(0, 0, 0, 0.3));\n",
              "        fill: #FFFFFF;\n",
              "      }\n",
              "    </style>\n",
              "    <button class=\"colab-df-generate\" onclick=\"generateWithVariable('des_stats')\"\n",
              "            title=\"Generate code using this dataframe.\"\n",
              "            style=\"display:none;\">\n",
              "\n",
              "  <svg xmlns=\"http://www.w3.org/2000/svg\" height=\"24px\"viewBox=\"0 0 24 24\"\n",
              "       width=\"24px\">\n",
              "    <path d=\"M7,19H8.4L18.45,9,17,7.55,7,17.6ZM5,21V16.75L18.45,3.32a2,2,0,0,1,2.83,0l1.4,1.43a1.91,1.91,0,0,1,.58,1.4,1.91,1.91,0,0,1-.58,1.4L9.25,21ZM18.45,9,17,7.55Zm-12,3A5.31,5.31,0,0,0,4.9,8.1,5.31,5.31,0,0,0,1,6.5,5.31,5.31,0,0,0,4.9,4.9,5.31,5.31,0,0,0,6.5,1,5.31,5.31,0,0,0,8.1,4.9,5.31,5.31,0,0,0,12,6.5,5.46,5.46,0,0,0,6.5,12Z\"/>\n",
              "  </svg>\n",
              "    </button>\n",
              "    <script>\n",
              "      (() => {\n",
              "      const buttonEl =\n",
              "        document.querySelector('#id_9458a87b-0c68-46a7-a050-bd3170bc3998 button.colab-df-generate');\n",
              "      buttonEl.style.display =\n",
              "        google.colab.kernel.accessAllowed ? 'block' : 'none';\n",
              "\n",
              "      buttonEl.onclick = () => {\n",
              "        google.colab.notebook.generateWithVariable('des_stats');\n",
              "      }\n",
              "      })();\n",
              "    </script>\n",
              "  </div>\n",
              "\n",
              "    </div>\n",
              "  </div>\n"
            ],
            "application/vnd.google.colaboratory.intrinsic+json": {
              "type": "dataframe",
              "variable_name": "des_stats",
              "summary": "{\n  \"name\": \"des_stats\",\n  \"rows\": 8,\n  \"fields\": [\n    {\n      \"column\": \"RM\",\n      \"properties\": {\n        \"dtype\": \"number\",\n        \"std\": 171.01026967657967,\n        \"min\": 0.6436497627572433,\n        \"max\": 489.0,\n        \"num_unique_values\": 8,\n        \"samples\": [\n          6.240288343558283,\n          6.185,\n          489.0\n        ],\n        \"semantic_type\": \"\",\n        \"description\": \"\"\n      }\n    },\n    {\n      \"column\": \"LSTAT\",\n      \"properties\": {\n        \"dtype\": \"number\",\n        \"std\": 168.38221606435013,\n        \"min\": 1.98,\n        \"max\": 489.0,\n        \"num_unique_values\": 8,\n        \"samples\": [\n          12.93963190184049,\n          11.69,\n          489.0\n        ],\n        \"semantic_type\": \"\",\n        \"description\": \"\"\n      }\n    },\n    {\n      \"column\": \"PTRATIO\",\n      \"properties\": {\n        \"dtype\": \"number\",\n        \"std\": 167.35224110126134,\n        \"min\": 2.111267502630989,\n        \"max\": 489.0,\n        \"num_unique_values\": 8,\n        \"samples\": [\n          18.51656441717791,\n          19.1,\n          489.0\n        ],\n        \"semantic_type\": \"\",\n        \"description\": \"\"\n      }\n    },\n    {\n      \"column\": \"MEDV\",\n      \"properties\": {\n        \"dtype\": \"number\",\n        \"std\": 318601.84841506614,\n        \"min\": 489.0,\n        \"max\": 1024800.0,\n        \"num_unique_values\": 8,\n        \"samples\": [\n          454342.9447852761,\n          438900.0,\n          489.0\n        ],\n        \"semantic_type\": \"\",\n        \"description\": \"\"\n      }\n    }\n  ]\n}"
            }
          },
          "metadata": {},
          "execution_count": 48
        }
      ]
    },
    {
      "cell_type": "markdown",
      "source": [
        "# Linear regression model"
      ],
      "metadata": {
        "id": "7wBYnQljFKt3"
      }
    },
    {
      "cell_type": "code",
      "source": [
        "from sklearn.linear_model import LinearRegression\n",
        "lg_model = LinearRegression()\n",
        "lg_model.fit(X_train, y_train)"
      ],
      "metadata": {
        "colab": {
          "base_uri": "https://localhost:8080/",
          "height": 75
        },
        "id": "Cjg3G_ZQA1ev",
        "outputId": "81dfda1d-8e1a-4453-f6fb-d283ddc5ae1d"
      },
      "execution_count": 51,
      "outputs": [
        {
          "output_type": "execute_result",
          "data": {
            "text/plain": [
              "LinearRegression()"
            ],
            "text/html": [
              "<style>#sk-container-id-1 {color: black;background-color: white;}#sk-container-id-1 pre{padding: 0;}#sk-container-id-1 div.sk-toggleable {background-color: white;}#sk-container-id-1 label.sk-toggleable__label {cursor: pointer;display: block;width: 100%;margin-bottom: 0;padding: 0.3em;box-sizing: border-box;text-align: center;}#sk-container-id-1 label.sk-toggleable__label-arrow:before {content: \"▸\";float: left;margin-right: 0.25em;color: #696969;}#sk-container-id-1 label.sk-toggleable__label-arrow:hover:before {color: black;}#sk-container-id-1 div.sk-estimator:hover label.sk-toggleable__label-arrow:before {color: black;}#sk-container-id-1 div.sk-toggleable__content {max-height: 0;max-width: 0;overflow: hidden;text-align: left;background-color: #f0f8ff;}#sk-container-id-1 div.sk-toggleable__content pre {margin: 0.2em;color: black;border-radius: 0.25em;background-color: #f0f8ff;}#sk-container-id-1 input.sk-toggleable__control:checked~div.sk-toggleable__content {max-height: 200px;max-width: 100%;overflow: auto;}#sk-container-id-1 input.sk-toggleable__control:checked~label.sk-toggleable__label-arrow:before {content: \"▾\";}#sk-container-id-1 div.sk-estimator input.sk-toggleable__control:checked~label.sk-toggleable__label {background-color: #d4ebff;}#sk-container-id-1 div.sk-label input.sk-toggleable__control:checked~label.sk-toggleable__label {background-color: #d4ebff;}#sk-container-id-1 input.sk-hidden--visually {border: 0;clip: rect(1px 1px 1px 1px);clip: rect(1px, 1px, 1px, 1px);height: 1px;margin: -1px;overflow: hidden;padding: 0;position: absolute;width: 1px;}#sk-container-id-1 div.sk-estimator {font-family: monospace;background-color: #f0f8ff;border: 1px dotted black;border-radius: 0.25em;box-sizing: border-box;margin-bottom: 0.5em;}#sk-container-id-1 div.sk-estimator:hover {background-color: #d4ebff;}#sk-container-id-1 div.sk-parallel-item::after {content: \"\";width: 100%;border-bottom: 1px solid gray;flex-grow: 1;}#sk-container-id-1 div.sk-label:hover label.sk-toggleable__label {background-color: #d4ebff;}#sk-container-id-1 div.sk-serial::before {content: \"\";position: absolute;border-left: 1px solid gray;box-sizing: border-box;top: 0;bottom: 0;left: 50%;z-index: 0;}#sk-container-id-1 div.sk-serial {display: flex;flex-direction: column;align-items: center;background-color: white;padding-right: 0.2em;padding-left: 0.2em;position: relative;}#sk-container-id-1 div.sk-item {position: relative;z-index: 1;}#sk-container-id-1 div.sk-parallel {display: flex;align-items: stretch;justify-content: center;background-color: white;position: relative;}#sk-container-id-1 div.sk-item::before, #sk-container-id-1 div.sk-parallel-item::before {content: \"\";position: absolute;border-left: 1px solid gray;box-sizing: border-box;top: 0;bottom: 0;left: 50%;z-index: -1;}#sk-container-id-1 div.sk-parallel-item {display: flex;flex-direction: column;z-index: 1;position: relative;background-color: white;}#sk-container-id-1 div.sk-parallel-item:first-child::after {align-self: flex-end;width: 50%;}#sk-container-id-1 div.sk-parallel-item:last-child::after {align-self: flex-start;width: 50%;}#sk-container-id-1 div.sk-parallel-item:only-child::after {width: 0;}#sk-container-id-1 div.sk-dashed-wrapped {border: 1px dashed gray;margin: 0 0.4em 0.5em 0.4em;box-sizing: border-box;padding-bottom: 0.4em;background-color: white;}#sk-container-id-1 div.sk-label label {font-family: monospace;font-weight: bold;display: inline-block;line-height: 1.2em;}#sk-container-id-1 div.sk-label-container {text-align: center;}#sk-container-id-1 div.sk-container {/* jupyter's `normalize.less` sets `[hidden] { display: none; }` but bootstrap.min.css set `[hidden] { display: none !important; }` so we also need the `!important` here to be able to override the default hidden behavior on the sphinx rendered scikit-learn.org. See: https://github.com/scikit-learn/scikit-learn/issues/21755 */display: inline-block !important;position: relative;}#sk-container-id-1 div.sk-text-repr-fallback {display: none;}</style><div id=\"sk-container-id-1\" class=\"sk-top-container\"><div class=\"sk-text-repr-fallback\"><pre>LinearRegression()</pre><b>In a Jupyter environment, please rerun this cell to show the HTML representation or trust the notebook. <br />On GitHub, the HTML representation is unable to render, please try loading this page with nbviewer.org.</b></div><div class=\"sk-container\" hidden><div class=\"sk-item\"><div class=\"sk-estimator sk-toggleable\"><input class=\"sk-toggleable__control sk-hidden--visually\" id=\"sk-estimator-id-1\" type=\"checkbox\" checked><label for=\"sk-estimator-id-1\" class=\"sk-toggleable__label sk-toggleable__label-arrow\">LinearRegression</label><div class=\"sk-toggleable__content\"><pre>LinearRegression()</pre></div></div></div></div></div>"
            ]
          },
          "metadata": {},
          "execution_count": 51
        }
      ]
    },
    {
      "cell_type": "code",
      "source": [
        "print(lg_model.coef_)"
      ],
      "metadata": {
        "colab": {
          "base_uri": "https://localhost:8080/"
        },
        "id": "7N3UAzOW3-Bs",
        "outputId": "ce6e87b4-dc52-4434-e2ee-04bf1c1bfdfb"
      },
      "execution_count": 52,
      "outputs": [
        {
          "output_type": "stream",
          "name": "stdout",
          "text": [
            "[-0.0808313  -0.06488032  0.18730647  0.64425375]\n"
          ]
        }
      ]
    },
    {
      "cell_type": "code",
      "source": [],
      "metadata": {
        "id": "tax7hfUeF0hD"
      },
      "execution_count": null,
      "outputs": []
    }
  ]
}